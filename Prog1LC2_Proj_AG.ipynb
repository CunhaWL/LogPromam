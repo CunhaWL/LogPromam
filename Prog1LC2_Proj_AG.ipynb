{
  "nbformat": 4,
  "nbformat_minor": 0,
  "metadata": {
    "colab": {
      "name": "Prog1LC2-Proj AG",
      "provenance": [],
      "collapsed_sections": [],
      "authorship_tag": "ABX9TyMP3LP4zVfyYjThtLB0Dlm3",
      "include_colab_link": true
    },
    "kernelspec": {
      "name": "python3",
      "display_name": "Python 3"
    },
    "language_info": {
      "name": "python"
    }
  },
  "cells": [
    {
      "cell_type": "markdown",
      "metadata": {
        "id": "view-in-github",
        "colab_type": "text"
      },
      "source": [
        "<a href=\"https://colab.research.google.com/github/CunhaWL/LogPromam/blob/master/Prog1LC2_Proj_AG.ipynb\" target=\"_parent\"><img src=\"https://colab.research.google.com/assets/colab-badge.svg\" alt=\"Open In Colab\"/></a>"
      ]
    },
    {
      "cell_type": "markdown",
      "metadata": {
        "id": "geo0bPlbZqo8"
      },
      "source": [
        "### **UFRPE - Licrenciatura em Computação**\n",
        "Programação 1 (LC2)\n",
        "Projeto de Algoritmo Genético-Wellington Cunha."
      ]
    },
    {
      "cell_type": "code",
      "metadata": {
        "id": "x7eGllfYbYx8"
      },
      "source": [
        "# UFRPE - Licrenciatura em Computação\n",
        "# Programação 1 (LC2)\n",
        "# AG-Ver7\n",
        "import numpy as np\n",
        "import random as rd\n",
        "\n",
        "tamCromossomo = 4 # 4 bits(Gene)\n",
        "pc = 0.95 # padrão\n",
        "pm = 0.1  # padrão\n",
        "numgeracoes = 30\n",
        "tamPopulacao = 10\n",
        "\n",
        "# Primeiro: População Inicial zeros.\n",
        "# Segundo: População gerada aleatoriamente.\n",
        "p = np.zeros((tamPopulacao, tamCromossomo)) # o numpy cria uma matriz com zeros,\n",
        "# as linhas são tamPopulação e\n",
        "# as colunas são tamCromossomos\n",
        "# print (p)\n",
        "for i in range(tamPopulacao):  # pecorrer as linhas da matriz\n",
        "    for j in range(tamCromossomo):  # pecorre as coluna da matriz\n",
        "        a = rd.uniform(0, 1)  # sortear um numero entre o e 1\n",
        "        if (a >= 0.5):  # condição de a\n",
        "            p[i][j] = 1  # define 1 para o gene (i-ésimo, j-ésimo)\n",
        "        else:\n",
        "            p[i][j] = 0  # define 0 para o gene\n",
        "# print(p)\n",
        "# Variaveis do AG\n",
        "ind = np.zeros(tamCromossomo)  # temporaria - recebe os genes\n",
        "individuo = np.zeros(tamPopulacao)  # armazena o valor convertido do binario\n",
        "Aptidao = np.zeros(tamPopulacao)  # armazena aptidoes de todos os individuos\n",
        "novageracao = np.zeros((tamPopulacao, tamCromossomo))\n",
        "geracoes = 0\n",
        "# Iniciando o AG\n",
        "while (geracoes < numgeracoes):\n",
        "\n",
        "    # geracoes = geracoes + 1\n",
        "    novosindividuos = 0\n",
        "    #nv = 0\n",
        "    while novosindividuos < (tamPopulacao - 1):\n",
        "\n",
        "        # O indice começa em Zero\n",
        "        # Conversão dos individuos para função seno\n",
        "        for i in range(tamPopulacao):\n",
        "            ind[:] = p[i, :]  # ind recebe todos os genes\n",
        "            conv = 0\n",
        "            for j in range(tamCromossomo):\n",
        "                conv = conv + ind[j] * (2 ** (tamCromossomo - (j + 1)))\n",
        "            individuo[i] = conv  #####\n",
        "            # individuo[i] = (512/2**tamCromossomo-1)*conv  #####\n",
        "        # Calculo da Aptidão\n",
        "        TotalAptidao = 0\n",
        "        for i in range(tamPopulacao):\n",
        "            Aptidao[i] = abs((np.sin(individuo[i]) + 1) * 50)\n",
        "            # função seno\n",
        "            TotalAptidao = Aptidao[i] + TotalAptidao\n",
        "\n",
        "        # Seleção dos pais para cruzamento (Metodo Roleta)\n",
        "        # verificar probabilidade de cada individuo\n",
        "        # print (TotalAptidao)\n",
        "        pic = np.zeros(tamPopulacao)\n",
        "        pitotal = np.zeros(tamPopulacao)\n",
        "        pic = (1 / TotalAptidao) * Aptidao\n",
        "        # print (pic)\n",
        "\n",
        "        # Criando a Roleta\n",
        "        for i in range(tamPopulacao):\n",
        "            if (i == 0):\n",
        "                pitotal[i] = pic[i]\n",
        "            else:\n",
        "                pitotal[i] = pic[i] + pitotal[i - 1]\n",
        "        # print (pitotal)\n",
        "\n",
        "        # Fazendo os sorteios dos pais de acordo\n",
        "        # com a probabilidade.\n",
        "        roleta1 = rd.uniform(0, 1)  # para o pai1\n",
        "        i = 0\n",
        "        while (roleta1 > pitotal[i]):\n",
        "            i += 1\n",
        "        pai1 = i\n",
        "\n",
        "        roleta2 = rd.uniform(0, 1)  # para o pai2\n",
        "        i = 0\n",
        "        while (roleta2 > pitotal[i]):\n",
        "            i += 1\n",
        "        pai2 = i\n",
        "\n",
        "        while (pai2 == pai1):  # pra nao sortear igual\n",
        "            roleta2 = rd.uniform(0, 1)\n",
        "            i = 0\n",
        "            while (roleta2 > pitotal[i]):\n",
        "                i += 1\n",
        "            pai2 = i\n",
        "\n",
        "        # Seção de Cruzamento\n",
        "        if (pc > rd.uniform(0, 1)):  # pc é a probabilidade de cruzamento\n",
        "            c = round(1 + (tamCromossomo - 2) * rd.uniform(0, 1))  \n",
        "            # O ponto de corte no Cromossomo\n",
        "            gene11 = p[pai1][0:c]  # p é da população original\n",
        "            gene12 = p[pai1][c:tamCromossomo]\n",
        "            gene21 = p[pai2][0:c]\n",
        "            gene22 = p[pai2][c:tamCromossomo]\n",
        "            filho1 = np.concatenate((gene11, gene22), axis=None)\n",
        "            filho2 = np.concatenate((gene21, gene12), axis=None)\n",
        "\n",
        "            novageracao[novosindividuos, :] = filho1  \n",
        "            novosindividuos = novosindividuos + 1\n",
        "            novageracao[novosindividuos, :] = filho2\n",
        "            novosindividuos = novosindividuos + 1\n",
        "            # print(novageracao)\n",
        "\n",
        "        #\n",
        "        # Seção de Mutação\n",
        "        if (pm > rd.uniform(0, 1)):  # pm probabilidade de mutação\n",
        "            d = round(1 + (tamCromossomo - 2) * rd.uniform(0, 1))\n",
        "\n",
        "            if (novageracao[novosindividuos - 2][d] == 0):\n",
        "                novageracao[novosindividuos - 2][d] = 1\n",
        "            else:\n",
        "                novageracao[novosindividuos - 2][d] = 0\n",
        "            if (novageracao[novosindividuos - 1][d] == 0):\n",
        "                novageracao[novosindividuos - 1][d] = 1\n",
        "\n",
        "            else:\n",
        "                novageracao[novosindividuos - 1][d] = 0\n",
        "            # print(novageracao)\n",
        "        # Identificar a solução maximizada\n",
        "        indice = Aptidao.argmax()\n",
        "        elem = individuo[indice]\n",
        "        #print(elem)\n",
        "        print(individuo)\n",
        "        #print(novosindividuos)\n",
        "        p = novageracao\n",
        "        #print(p)\n",
        "        #print(indice)\n",
        "        #print(geracoes)\n",
        "        geracoes = geracoes + 1\n",
        "        print(novageracao)\n",
        "        print(Aptidao)\n",
        "        print (TotalAptidao)\n",
        "\n"
      ],
      "execution_count": null,
      "outputs": []
    },
    {
      "cell_type": "markdown",
      "metadata": {
        "id": "2NImB1UH0FpW"
      },
      "source": [
        "# Gráfico da Função Aptidão\n"
      ]
    },
    {
      "cell_type": "code",
      "metadata": {
        "colab": {
          "base_uri": "https://localhost:8080/",
          "height": 296
        },
        "id": "XmuFNAa50jJK",
        "outputId": "7e124ce8-27bc-4ec1-b295-174e4c71fcd8"
      },
      "source": [
        "# UFRPE - Licrenciatura em Computação\n",
        "# Programação 1 (LC2)\n",
        "# AG-Ver7 (gráfico da função Aptidão)\n",
        "import numpy as np\n",
        "import random as rd\n",
        "import matplotlib.pyplot as plt\n",
        "x=np.linspace(0,15,100)\n",
        "y=abs((np.sin(x) + 1) * 50)\n",
        "plt.plot(x, y)\n",
        "plt.xlabel('x')\n",
        "plt.ylabel('y')\n",
        "plt.show ()\n",
        "exit"
      ],
      "execution_count": 2,
      "outputs": [
        {
          "output_type": "display_data",
          "data": {
            "image/png": "[encoded data removed]",
            "text/plain": [
              "<Figure size 432x288 with 1 Axes>"
            ]
          },
          "metadata": {
            "tags": [],
            "needs_background": "light"
          }
        },
        {
          "output_type": "execute_result",
          "data": {
            "text/plain": [
              "<IPython.core.autocall.ZMQExitAutocall at 0x7fdfcc3d8710>"
            ]
          },
          "metadata": {
            "tags": []
          },
          "execution_count": 2
        }
      ]
    },
    {
      "cell_type": "markdown",
      "metadata": {
        "id": "Hyrp7BKH1JXq"
      },
      "source": [
        "# Gráfico da Probabilidade Individual\n"
      ]
    },
    {
      "cell_type": "code",
      "metadata": {
        "colab": {
          "base_uri": "https://localhost:8080/",
          "height": 442
        },
        "id": "QSq7Hobb2Bkz",
        "outputId": "28194daa-e2d1-4b45-ddfe-f1c855d89a5b"
      },
      "source": [
        "# UFRPE - Licrenciatura em Computação\n",
        "# Programação 1 (LC2)\n",
        "# AG-mod6Ver1 - Gráfico da Probabilidade Individual\n",
        "import numpy as np\n",
        "import random as rd\n",
        "import matplotlib.pyplot as plt\n",
        "\n",
        "\n",
        "tamCromossomo = 4\n",
        "pc = 0.95  # padrão\n",
        "pm = 0.1  # padrão\n",
        "numgeracoes = 20\n",
        "tamPopulacao = 10\n",
        "\n",
        "# População Inicial - Gerada de forma aleatória:\n",
        "p = np.zeros((tamPopulacao, tamCromossomo))  # o numpy cria uma matriz com zeros, as linhas são tamPopulação e\n",
        "# as colunas são tamCromossomos\n",
        "# print (p)\n",
        "for i in range(tamPopulacao):  # pecorrer as linhas da matriz\n",
        "    for j in range(tamCromossomo):  # pecorre as coluna da matriz\n",
        "        a = rd.uniform(0, 1)  # sortear um numero entre o e 1\n",
        "        if (a >= 0.5):  # condição de a\n",
        "            p[i][j] = 1  # define 1 para o gene (i-ésimo, j-ésimo)\n",
        "        else:\n",
        "            p[i][j] = 0  # define 0 para o gene\n",
        "# print(p)\n",
        "# Variaveis do AG\n",
        "ind = np.zeros(tamCromossomo)  # temporaria - recebe os genes\n",
        "individuo = np.zeros(tamPopulacao)  # armazena o valor convertido do binario\n",
        "Aptidao = np.zeros(tamPopulacao) # armazena aptidoes de todos os individuos\n",
        "novageracao = np.zeros((tamPopulacao, tamCromossomo))\n",
        "# Iniciando o AG\n",
        "\n",
        "for i in range(tamPopulacao):\n",
        "    ind[:] = p[i, :]  # ind recebe todos os genes\n",
        "    conv = 0            \n",
        "    for j in range(tamCromossomo):\n",
        "        conv = conv + ind[j] * (2 ** (tamCromossomo - (j + 1)))\n",
        "    individuo[i] = conv  #####\n",
        "            #individuo[i] = (512/2**tamCromossomo-1)*conv  #####\n",
        "        # Calculo da Aptidão\n",
        "TotalAptidao = 0\n",
        "for i in range(tamPopulacao):\n",
        "    Aptidao[i] = abs((np.sin(individuo[i]) + 1) * 50)\n",
        "            # função seno\n",
        "    TotalAptidao = Aptidao[i] + TotalAptidao        \n",
        "# verificar probabilidade de cada individuo\n",
        "# print (TotalAptidao)\n",
        "pic = np.zeros(tamPopulacao)\n",
        "pitotal = np.zeros(tamPopulacao)\n",
        "pic = (1 / TotalAptidao) * Aptidao\n",
        "# print (pic)\n",
        "# print (pitotal)\n",
        "print(Aptidao, 'valores da Aptidão dos individuos')    \n",
        "print(individuo, 'individuos')\n",
        "print(TotalAptidao, 'Valor das Aptidões')\n",
        "plt.rcParams.update({'font.size':10})#define tamanho da fonte\n",
        "Prob=individuo\n",
        "Vperc=pic\n",
        "plt.figure(figsize=(6,6))\n",
        "plt.pie(x=Vperc, labels=Prob, autopct='%1.1f%%')\n",
        "plt.show ()\n"
      ],
      "execution_count": 2,
      "outputs": [
        {
          "output_type": "stream",
          "text": [
            "[8.28493299e+01 2.31713541e+01 9.20735492e+01 9.54648713e+01\n",
            " 2.27989445e+01 5.00000000e+01 2.27989445e+01 9.95303678e+01\n",
            " 4.89672465e-04 7.06059243e+01] valores da Aptidão dos individuos\n",
            "[ 7. 12.  1.  2. 10.  0. 10. 14. 11.  9.] individuos\n",
            "559.2937752479559 Valor das Aptidões\n"
          ],
          "name": "stdout"
        },
        {
          "output_type": "display_data",
          "data": {
            "image/png": "[encoded data removed]",
            "text/plain": [
              "<Figure size 432x432 with 1 Axes>"
            ]
          },
          "metadata": {
            "tags": []
          }
        }
      ]
    }
  ]
}